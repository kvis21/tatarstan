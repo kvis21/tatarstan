{
  "cells": [
    {
      "cell_type": "code",
      "execution_count": 2,
      "metadata": {
        "colab": {
          "base_uri": "https://localhost:8080/"
        },
        "id": "p5tXdbZ4Cv-0",
        "outputId": "e508c9ed-4115-4319-d759-f510ccb60fe0"
      },
      "outputs": [
        {
          "output_type": "stream",
          "name": "stdout",
          "text": [
            "Looking in indexes: https://pypi.org/simple, https://us-python.pkg.dev/colab-wheels/public/simple/\n",
            "Collecting map-boxes\n",
            "  Downloading map_boxes-1.0.5-py3-none-any.whl (5.1 kB)\n",
            "Requirement already satisfied: pandas in /usr/local/lib/python3.7/dist-packages (from map-boxes) (1.3.5)\n",
            "Requirement already satisfied: numpy in /usr/local/lib/python3.7/dist-packages (from map-boxes) (1.21.6)\n",
            "Requirement already satisfied: pytz>=2017.3 in /usr/local/lib/python3.7/dist-packages (from pandas->map-boxes) (2022.2)\n",
            "Requirement already satisfied: python-dateutil>=2.7.3 in /usr/local/lib/python3.7/dist-packages (from pandas->map-boxes) (2.8.2)\n",
            "Requirement already satisfied: six>=1.5 in /usr/local/lib/python3.7/dist-packages (from python-dateutil>=2.7.3->pandas->map-boxes) (1.15.0)\n",
            "Installing collected packages: map-boxes\n",
            "Successfully installed map-boxes-1.0.5\n"
          ]
        }
      ],
      "source": [
        "!pip install map-boxes"
      ]
    },
    {
      "cell_type": "code",
      "execution_count": 2,
      "metadata": {
        "colab": {
          "base_uri": "https://localhost:8080/"
        },
        "id": "_4Bj8zB3vWnv",
        "outputId": "1004bbb2-7eba-4aed-c5f2-e2318e5c15bb"
      },
      "outputs": [
        {
          "output_type": "stream",
          "name": "stdout",
          "text": [
            "Mounted at /content/drive\n"
          ]
        }
      ],
      "source": [
        "from google.colab import drive\n",
        "drive.mount('/content/drive')"
      ]
    },
    {
      "cell_type": "code",
      "execution_count": null,
      "metadata": {
        "id": "WUOPhhhzu5wG"
      },
      "outputs": [],
      "source": [
        ""
      ]
    },
    {
      "cell_type": "code",
      "source": [
        ""
      ],
      "metadata": {
        "colab": {
          "base_uri": "https://localhost:8080/"
        },
        "id": "ccl9Gv5lb9B0",
        "outputId": "e1b39a8b-1404-445d-d586-54b95c0512e0"
      },
      "execution_count": null,
      "outputs": [
        {
          "output_type": "stream",
          "name": "stdout",
          "text": [
            "Looking in indexes: https://pypi.org/simple, https://us-python.pkg.dev/colab-wheels/public/simple/\n",
            "Collecting thop\n",
            "  Downloading thop-0.1.1.post2207130030-py3-none-any.whl (15 kB)\n",
            "Requirement already satisfied: torch in /usr/local/lib/python3.7/dist-packages (from thop) (1.12.1+cu113)\n",
            "Requirement already satisfied: typing-extensions in /usr/local/lib/python3.7/dist-packages (from torch->thop) (4.1.1)\n",
            "Installing collected packages: thop\n",
            "Successfully installed thop-0.1.1.post2207130030\n"
          ]
        }
      ]
    },
    {
      "cell_type": "code",
      "execution_count": 3,
      "metadata": {
        "id": "VkOJXFmilOMb",
        "colab": {
          "base_uri": "https://localhost:8080/"
        },
        "outputId": "3e1adab7-b0b9-4ff4-e680-17e570a6c74b"
      },
      "outputs": [
        {
          "output_type": "stream",
          "name": "stderr",
          "text": [
            "/usr/local/lib/python3.7/dist-packages/Cython/Compiler/Main.py:369: FutureWarning: Cython directive 'language_level' not set, using 2 for now (Py2). This will change in a later release! File: /usr/local/lib/python3.7/dist-packages/map_boxes/compute_overlap.pyx\n",
            "  tree = Parsing.p_module(s, pxd, full_module_name)\n"
          ]
        }
      ],
      "source": [
        "import os\n",
        "import sys\n",
        "import shutil\n",
        "import pandas as pd\n",
        "from sklearn.model_selection import train_test_split\n",
        "from map_boxes import mean_average_precision_for_boxes\n",
        "import pandas as pd\n",
        "import random\n",
        "import torch\n",
        "import torch.nn as nn\n",
        "import cv2"
      ]
    },
    {
      "cell_type": "code",
      "execution_count": null,
      "metadata": {
        "id": "_6oMEgW87rEZ"
      },
      "outputs": [],
      "source": [
        "!git clone https://github.com/ultralytics/yolov5.git"
      ]
    },
    {
      "cell_type": "code",
      "execution_count": null,
      "metadata": {
        "id": "Uv1Lab4Enh-s"
      },
      "outputs": [],
      "source": [
        "'''T = [\n",
        "                A.Blur(p=0.07),\n",
        "                A.MedianBlur(p=0.01),\n",
        "                A.ToGray(p=0.05),\n",
        "                A.CLAHE(always_apply=False, p=0.05, clip_limit=(1, 16), tile_grid_size=(11, 8)),\n",
        "                A.RandomBrightnessContrast(always_apply=False, p=0.1, brightness_limit=(-0.3, -0.1), contrast_limit=(-0.2, 0.2), brightness_by_max=True),\n",
        "                A.RandomGamma(p=0.05),\n",
        "                A.ImageCompression(quality_lower=75, p=0.02),\n",
        "                ToSepia(always_apply=False, p=0.05)]'''"
      ]
    },
    {
      "cell_type": "code",
      "execution_count": null,
      "metadata": {
        "id": "bzXteV_wO1zA"
      },
      "outputs": [],
      "source": [
        "!pip install -r /content/yolov5/requirements.txt"
      ]
    },
    {
      "cell_type": "code",
      "execution_count": null,
      "metadata": {
        "id": "ixwz4xVvAWf5"
      },
      "outputs": [],
      "source": [
        "#в папке data_for_yolo создадим dataset.yaml со следующим содержимым\n",
        "\n",
        "yaml_content = \"\"\"\n",
        "train: /content/data_for_yolo/data/images/train/\n",
        "val: /content/data_for_yolo/data/images/test/\n",
        "\n",
        "# number of classes\n",
        "nc: 1\n",
        "\n",
        "# class names\n",
        "names: ['human']\n",
        "\"\"\""
      ]
    },
    {
      "cell_type": "code",
      "execution_count": 6,
      "metadata": {
        "id": "LA9f-mEWOLkH"
      },
      "outputs": [],
      "source": [
        "path_to_data = '/content/drive/MyDrive/tatarstan_yaml/face.yaml'"
      ]
    },
    {
      "cell_type": "code",
      "execution_count": null,
      "metadata": {
        "id": "W7AN6he9V9z7"
      },
      "outputs": [],
      "source": [
        "!nvidia-smi"
      ]
    },
    {
      "cell_type": "code",
      "execution_count": null,
      "metadata": {
        "id": "cWr2R097OJMW"
      },
      "outputs": [],
      "source": [
        "!python ./yolov5/train.py --img 640 --batch 16 --epochs 50 --data {path_to_data} --weights /content/drive/MyDrive/weights/face_s640_0.3.pt --name head_results --cache"
      ]
    },
    {
      "cell_type": "code",
      "source": [
        "!python3 yolov5/detect.py --weights /content/yolov5/runs/train/head_results4/weights/best.pt --img 1220 --conf 0.325 --source /content/drive/MyDrive/data_for_yolo/data/images/test/face --save-txt --save-conf"
      ],
      "metadata": {
        "id": "8cxDO8Hv6L1v"
      },
      "execution_count": null,
      "outputs": []
    },
    {
      "cell_type": "code",
      "execution_count": 1,
      "metadata": {
        "id": "I3rWTnEqc4VF"
      },
      "outputs": [],
      "source": [
        "\n",
        "def get_soliton_labels_df(path_to_txt_folder):\n",
        "  simple_solution = []\n",
        "  for detection_file in os.listdir(path_to_txt_folder):\n",
        "    img_name = detection_file.split('.')[0] + '.jpg'\n",
        "    with open(path_to_txt_folder + detection_file, 'r') as f:\n",
        "      data = f.read()\n",
        "      data = [i for i in data.split('\\n') if i != '']\n",
        "    for line in data:\n",
        "      \n",
        "      val = [float(i) for i in line.split()]\n",
        "\n",
        "      cls, xywh, conf = val[0], val[1:5], val[5]\n",
        "      center_x, center_y, width, height = xywh\n",
        "      xmin = center_x - (width / 2)\n",
        "      xmax = center_x + (width / 2)\n",
        "      ymin = center_y - (height / 2)\n",
        "      ymax = center_y + (height / 2)\n",
        "      simple_solution.append([img_name, cls, conf, xmin, xmax, ymin, ymax])\n",
        "  return simple_solution"
      ]
    },
    {
      "cell_type": "code",
      "execution_count": 40,
      "metadata": {
        "id": "U3BxE7oVKMm6"
      },
      "outputs": [],
      "source": [
        "simple_solution = get_soliton_labels_df('yolov5/runs/detect/exp5/labels/')\n",
        "simple_solution = pd.DataFrame(simple_solution, columns=['ImageID', 'LabelName', 'Conf', 'XMin', 'XMax', 'YMin', 'YMax'])"
      ]
    },
    {
      "cell_type": "code",
      "source": [
        ""
      ],
      "metadata": {
        "id": "poMvMVxpwMIj"
      },
      "execution_count": null,
      "outputs": []
    },
    {
      "cell_type": "code",
      "source": [
        ""
      ],
      "metadata": {
        "id": "VrvzhQOWdBJ3"
      },
      "execution_count": null,
      "outputs": []
    },
    {
      "cell_type": "code",
      "execution_count": 41,
      "metadata": {
        "id": "Ftgfdk42OPSw"
      },
      "outputs": [],
      "source": [
        "def get_test_labels_df(path_to_txt_folder):\n",
        "  simple_solution = []\n",
        "  for detection_file in os.listdir(path_to_txt_folder):\n",
        "    img_name = detection_file.split('.')[0] + '.jpg'\n",
        "    with open(path_to_txt_folder + detection_file, 'r') as f:\n",
        "      data = f.read()\n",
        "      data = [i for i in data.split('\\n') if i != '']\n",
        "    for line in data:\n",
        "      val = [float(i) for i in line.split()]\n",
        "      cls, center_x, center_y, width, height = val\n",
        "      xmin = center_x - (width / 2)\n",
        "      xmax = center_x + (width / 2)\n",
        "      ymin = center_y - (height / 2)\n",
        "      ymax = center_y + (height / 2)\n",
        "      simple_solution.append([img_name, cls, xmin, xmax, ymin, ymax])\n",
        "  return simple_solution"
      ]
    },
    {
      "cell_type": "code",
      "execution_count": 42,
      "metadata": {
        "id": "yykCSwcWPMwi"
      },
      "outputs": [],
      "source": [
        "test_labels = get_test_labels_df('/content/drive/MyDrive/data_for_yolo/data/labels/test/face/')\n",
        "test_labels = pd.DataFrame(test_labels, columns=['ImageID', 'LabelName', 'XMin', 'XMax', 'YMin', 'YMax'])"
      ]
    },
    {
      "cell_type": "code",
      "execution_count": 43,
      "metadata": {
        "id": "m2AKY94kc5pt"
      },
      "outputs": [],
      "source": [
        "mean_ap, average_precisions = mean_average_precision_for_boxes(test_labels, simple_solution, iou_threshold=0.325, verbose=False)"
      ]
    },
    {
      "cell_type": "code",
      "execution_count": 44,
      "metadata": {
        "id": "Y5tHgSQ1sAki",
        "colab": {
          "base_uri": "https://localhost:8080/"
        },
        "outputId": "2c1ef069-0913-4db2-acab-9838b97b4d88"
      },
      "outputs": [
        {
          "output_type": "execute_result",
          "data": {
            "text/plain": [
              "0.5610231396497323"
            ]
          },
          "metadata": {},
          "execution_count": 44
        }
      ],
      "source": [
        "mean_ap"
      ]
    },
    {
      "cell_type": "code",
      "execution_count": null,
      "metadata": {
        "id": "a-v5CsRZUj0h"
      },
      "outputs": [],
      "source": [
        "#/content/participants/test/images"
      ]
    },
    {
      "cell_type": "code",
      "execution_count": null,
      "metadata": {
        "id": "IGlDlGr3jZta"
      },
      "outputs": [],
      "source": [
        "\n",
        "!python3 yolov5/detect.py --weights /content/drive/MyDrive/weights/face_s640_0.3.pt --img 1220 --conf 0.325 --source /content/drive/MyDrive/test_dataset_test/test/images/ --save-txt --save-conf"
      ]
    },
    {
      "cell_type": "code",
      "execution_count": 32,
      "metadata": {
        "id": "MHexw0z9kF80"
      },
      "outputs": [],
      "source": [
        "def get_soliton_labels_df_simple_solution(path_to_txt_folder):\n",
        "  simple_solution = []\n",
        "  for detection_file in os.listdir(path_to_txt_folder):\n",
        "    img_name = detection_file.split('.')[0] + '.jpg'\n",
        "    with open(path_to_txt_folder + detection_file, 'r') as f:\n",
        "      data = f.read()\n",
        "      data = [i for i in data.split('\\n') if i != '']\n",
        "    for line in data:\n",
        "      val = [float(i) for i in line.split()]\n",
        "      _, xywh, conf = val[0], val[1:5], val[5]\n",
        "      center_x, center_y, width, height = xywh\n",
        "      xmin = center_x - (width / 2)\n",
        "      xmax = center_x + (width / 2)\n",
        "      ymin = center_y - (height / 2)\n",
        "      ymax = center_y + (height / 2)\n",
        "      simple_solution.append([img_name, 2, conf, xmin, xmax, ymin, ymax])\n",
        "  return simple_solution"
      ]
    },
    {
      "cell_type": "code",
      "execution_count": 33,
      "metadata": {
        "id": "cbc3lBzGkNfs"
      },
      "outputs": [],
      "source": [
        "simple_solution = get_soliton_labels_df_simple_solution('yolov5/runs/detect/exp4/labels/')\n",
        "simple_solution = pd.DataFrame(simple_solution, columns=['ImageID', 'LabelName', 'Conf', 'XMin', 'XMax', 'YMin', 'YMax'])"
      ]
    },
    {
      "cell_type": "code",
      "source": [
        "simple_solution"
      ],
      "metadata": {
        "id": "KpjDA-Hh_Xjs"
      },
      "execution_count": null,
      "outputs": []
    },
    {
      "cell_type": "code",
      "execution_count": null,
      "metadata": {
        "id": "bWp3vOturlAB"
      },
      "outputs": [],
      "source": [
        "df = pd.read_csv(\"car.csv\", sep=';', index_col=None)"
      ]
    },
    {
      "cell_type": "code",
      "execution_count": null,
      "metadata": {
        "id": "ZOBlOu1Jrqpd"
      },
      "outputs": [],
      "source": [
        "df"
      ]
    }
  ],
  "metadata": {
    "accelerator": "GPU",
    "colab": {
      "collapsed_sections": [],
      "name": "baseline.ipynb",
      "provenance": []
    },
    "gpuClass": "standard",
    "kernelspec": {
      "display_name": "Python 3",
      "name": "python3"
    },
    "language_info": {
      "name": "python"
    }
  },
  "nbformat": 4,
  "nbformat_minor": 0
}